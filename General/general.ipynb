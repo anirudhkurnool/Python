{
 "cells": [
  {
   "cell_type": "code",
   "execution_count": 1,
   "id": "71ec0b28",
   "metadata": {},
   "outputs": [
    {
     "name": "stdout",
     "output_type": "stream",
     "text": [
      "Hello, World\n"
     ]
    }
   ],
   "source": [
    "print(\"Hello, World\")"
   ]
  },
  {
   "cell_type": "code",
   "execution_count": null,
   "id": "6540cc15",
   "metadata": {},
   "outputs": [],
   "source": [
    "def add(a : int , b : int) -> int:\n",
    "    return a + b"
   ]
  },
  {
   "cell_type": "code",
   "execution_count": 3,
   "id": "3fe58f19",
   "metadata": {},
   "outputs": [
    {
     "data": {
      "text/plain": [
       "3"
      ]
     },
     "execution_count": 3,
     "metadata": {},
     "output_type": "execute_result"
    }
   ],
   "source": [
    "add(1, 2)"
   ]
  },
  {
   "cell_type": "code",
   "execution_count": null,
   "id": "92772384",
   "metadata": {},
   "outputs": [],
   "source": [
    "def mul(a : int, b : int) -> int:\n",
    "    return a * b"
   ]
  },
  {
   "cell_type": "code",
   "execution_count": 6,
   "id": "d5043bb8",
   "metadata": {},
   "outputs": [
    {
     "data": {
      "text/plain": [
       "12"
      ]
     },
     "execution_count": 6,
     "metadata": {},
     "output_type": "execute_result"
    }
   ],
   "source": [
    "mul(3, 4)"
   ]
  },
  {
   "cell_type": "code",
   "execution_count": null,
   "id": "6d70cdba",
   "metadata": {},
   "outputs": [],
   "source": [
    "def div(a : int, b : int) -> int:\n",
    "    if b == 0:\n",
    "        raise ZeroDivisionError\n",
    "    return a / b"
   ]
  },
  {
   "cell_type": "code",
   "execution_count": 7,
   "id": "9db4c844",
   "metadata": {},
   "outputs": [
    {
     "ename": "ZeroDivisionError",
     "evalue": "",
     "output_type": "error",
     "traceback": [
      "\u001b[31m---------------------------------------------------------------------------\u001b[39m",
      "\u001b[31mZeroDivisionError\u001b[39m                         Traceback (most recent call last)",
      "\u001b[36mCell\u001b[39m\u001b[36m \u001b[39m\u001b[32mIn[7]\u001b[39m\u001b[32m, line 1\u001b[39m\n\u001b[32m----> \u001b[39m\u001b[32m1\u001b[39m \u001b[43mdiv\u001b[49m\u001b[43m(\u001b[49m\u001b[32;43m1\u001b[39;49m\u001b[43m,\u001b[49m\u001b[43m \u001b[49m\u001b[32;43m0\u001b[39;49m\u001b[43m)\u001b[49m\n",
      "\u001b[36mCell\u001b[39m\u001b[36m \u001b[39m\u001b[32mIn[5]\u001b[39m\u001b[32m, line 3\u001b[39m, in \u001b[36mdiv\u001b[39m\u001b[34m(a, b)\u001b[39m\n\u001b[32m      1\u001b[39m \u001b[38;5;28;01mdef\u001b[39;00m\u001b[38;5;250m \u001b[39m\u001b[34mdiv\u001b[39m(a:\u001b[38;5;28mint\u001b[39m, b:\u001b[38;5;28mint\u001b[39m) -> \u001b[38;5;28mint\u001b[39m:\n\u001b[32m      2\u001b[39m     \u001b[38;5;28;01mif\u001b[39;00m b == \u001b[32m0\u001b[39m:\n\u001b[32m----> \u001b[39m\u001b[32m3\u001b[39m         \u001b[38;5;28;01mraise\u001b[39;00m \u001b[38;5;167;01mZeroDivisionError\u001b[39;00m\n\u001b[32m      4\u001b[39m     \u001b[38;5;28;01mreturn\u001b[39;00m a / b\n",
      "\u001b[31mZeroDivisionError\u001b[39m: "
     ]
    }
   ],
   "source": [
    "div(1, 0)"
   ]
  },
  {
   "cell_type": "code",
   "execution_count": 8,
   "id": "a30f149f",
   "metadata": {},
   "outputs": [
    {
     "data": {
      "text/plain": [
       "1.5"
      ]
     },
     "execution_count": 8,
     "metadata": {},
     "output_type": "execute_result"
    }
   ],
   "source": [
    "div(3, 2)"
   ]
  },
  {
   "cell_type": "code",
   "execution_count": 9,
   "id": "8c712c2b",
   "metadata": {},
   "outputs": [],
   "source": [
    "def even_or_odd(num : int) -> str:\n",
    "    if num % 2 == 0:\n",
    "        return \"even\" \n",
    "    else:\n",
    "        return \"odd\""
   ]
  },
  {
   "cell_type": "code",
   "execution_count": 10,
   "id": "9933f993",
   "metadata": {},
   "outputs": [
    {
     "data": {
      "text/plain": [
       "'even'"
      ]
     },
     "execution_count": 10,
     "metadata": {},
     "output_type": "execute_result"
    }
   ],
   "source": [
    "even_or_odd(2)"
   ]
  },
  {
   "cell_type": "code",
   "execution_count": 11,
   "id": "022c0063",
   "metadata": {},
   "outputs": [
    {
     "data": {
      "text/plain": [
       "'odd'"
      ]
     },
     "execution_count": 11,
     "metadata": {},
     "output_type": "execute_result"
    }
   ],
   "source": [
    "even_or_odd(5)"
   ]
  },
  {
   "cell_type": "code",
   "execution_count": 12,
   "id": "fbb64707",
   "metadata": {},
   "outputs": [],
   "source": [
    "def is_prime(num : int) -> bool:\n",
    "    num_sqrt = int(num**0.5)\n",
    "    for i in range(2, num_sqrt):\n",
    "        if num % i == 0:\n",
    "            return False \n",
    "        \n",
    "    return True "
   ]
  },
  {
   "cell_type": "code",
   "execution_count": 13,
   "id": "b02fa28b",
   "metadata": {},
   "outputs": [
    {
     "data": {
      "text/plain": [
       "True"
      ]
     },
     "execution_count": 13,
     "metadata": {},
     "output_type": "execute_result"
    }
   ],
   "source": [
    "is_prime(3)"
   ]
  },
  {
   "cell_type": "code",
   "execution_count": 14,
   "id": "b89a022c",
   "metadata": {},
   "outputs": [
    {
     "data": {
      "text/plain": [
       "False"
      ]
     },
     "execution_count": 14,
     "metadata": {},
     "output_type": "execute_result"
    }
   ],
   "source": [
    "is_prime(10)"
   ]
  },
  {
   "cell_type": "code",
   "execution_count": 19,
   "id": "61c57a3b",
   "metadata": {},
   "outputs": [],
   "source": [
    "nums = [1, 2, 3, 4, 5]"
   ]
  },
  {
   "cell_type": "code",
   "execution_count": 20,
   "id": "9e17bf11",
   "metadata": {},
   "outputs": [],
   "source": [
    "nums = 2 * nums"
   ]
  },
  {
   "cell_type": "code",
   "execution_count": 21,
   "id": "71f51668",
   "metadata": {},
   "outputs": [
    {
     "data": {
      "text/plain": [
       "[1, 2, 3, 4, 5, 1, 2, 3, 4, 5]"
      ]
     },
     "execution_count": 21,
     "metadata": {},
     "output_type": "execute_result"
    }
   ],
   "source": [
    "nums"
   ]
  },
  {
   "cell_type": "code",
   "execution_count": 22,
   "id": "5363e65f",
   "metadata": {},
   "outputs": [],
   "source": [
    "nums += nums"
   ]
  },
  {
   "cell_type": "code",
   "execution_count": 23,
   "id": "69cadf42",
   "metadata": {},
   "outputs": [
    {
     "data": {
      "text/plain": [
       "[1, 2, 3, 4, 5, 1, 2, 3, 4, 5, 1, 2, 3, 4, 5, 1, 2, 3, 4, 5]"
      ]
     },
     "execution_count": 23,
     "metadata": {},
     "output_type": "execute_result"
    }
   ],
   "source": [
    "nums"
   ]
  },
  {
   "cell_type": "code",
   "execution_count": 26,
   "id": "e28fff57",
   "metadata": {},
   "outputs": [],
   "source": [
    "even_numbers_below_100 = [i for i in range(101) if i % 2 == 0] "
   ]
  },
  {
   "cell_type": "code",
   "execution_count": 27,
   "id": "e0e4bdf9",
   "metadata": {},
   "outputs": [
    {
     "data": {
      "text/plain": [
       "[0,\n",
       " 2,\n",
       " 4,\n",
       " 6,\n",
       " 8,\n",
       " 10,\n",
       " 12,\n",
       " 14,\n",
       " 16,\n",
       " 18,\n",
       " 20,\n",
       " 22,\n",
       " 24,\n",
       " 26,\n",
       " 28,\n",
       " 30,\n",
       " 32,\n",
       " 34,\n",
       " 36,\n",
       " 38,\n",
       " 40,\n",
       " 42,\n",
       " 44,\n",
       " 46,\n",
       " 48,\n",
       " 50,\n",
       " 52,\n",
       " 54,\n",
       " 56,\n",
       " 58,\n",
       " 60,\n",
       " 62,\n",
       " 64,\n",
       " 66,\n",
       " 68,\n",
       " 70,\n",
       " 72,\n",
       " 74,\n",
       " 76,\n",
       " 78,\n",
       " 80,\n",
       " 82,\n",
       " 84,\n",
       " 86,\n",
       " 88,\n",
       " 90,\n",
       " 92,\n",
       " 94,\n",
       " 96,\n",
       " 98,\n",
       " 100]"
      ]
     },
     "execution_count": 27,
     "metadata": {},
     "output_type": "execute_result"
    }
   ],
   "source": [
    "even_numbers_below_100"
   ]
  },
  {
   "cell_type": "code",
   "execution_count": 28,
   "id": "e7184142",
   "metadata": {},
   "outputs": [],
   "source": [
    "odd_numbers = [i for i in range(1, 101) if i % 2 != 0]"
   ]
  },
  {
   "cell_type": "code",
   "execution_count": 29,
   "id": "a8193aae",
   "metadata": {},
   "outputs": [
    {
     "data": {
      "text/plain": [
       "[1,\n",
       " 3,\n",
       " 5,\n",
       " 7,\n",
       " 9,\n",
       " 11,\n",
       " 13,\n",
       " 15,\n",
       " 17,\n",
       " 19,\n",
       " 21,\n",
       " 23,\n",
       " 25,\n",
       " 27,\n",
       " 29,\n",
       " 31,\n",
       " 33,\n",
       " 35,\n",
       " 37,\n",
       " 39,\n",
       " 41,\n",
       " 43,\n",
       " 45,\n",
       " 47,\n",
       " 49,\n",
       " 51,\n",
       " 53,\n",
       " 55,\n",
       " 57,\n",
       " 59,\n",
       " 61,\n",
       " 63,\n",
       " 65,\n",
       " 67,\n",
       " 69,\n",
       " 71,\n",
       " 73,\n",
       " 75,\n",
       " 77,\n",
       " 79,\n",
       " 81,\n",
       " 83,\n",
       " 85,\n",
       " 87,\n",
       " 89,\n",
       " 91,\n",
       " 93,\n",
       " 95,\n",
       " 97,\n",
       " 99]"
      ]
     },
     "execution_count": 29,
     "metadata": {},
     "output_type": "execute_result"
    }
   ],
   "source": [
    "odd_numbers"
   ]
  },
  {
   "cell_type": "code",
   "execution_count": 30,
   "id": "be5ee861",
   "metadata": {},
   "outputs": [],
   "source": [
    "num_to_square_below_100 = {i : i*i for i in range(1, 101)}"
   ]
  },
  {
   "cell_type": "code",
   "execution_count": 31,
   "id": "f2e65ed1",
   "metadata": {},
   "outputs": [
    {
     "data": {
      "text/plain": [
       "{1: 1,\n",
       " 2: 4,\n",
       " 3: 9,\n",
       " 4: 16,\n",
       " 5: 25,\n",
       " 6: 36,\n",
       " 7: 49,\n",
       " 8: 64,\n",
       " 9: 81,\n",
       " 10: 100,\n",
       " 11: 121,\n",
       " 12: 144,\n",
       " 13: 169,\n",
       " 14: 196,\n",
       " 15: 225,\n",
       " 16: 256,\n",
       " 17: 289,\n",
       " 18: 324,\n",
       " 19: 361,\n",
       " 20: 400,\n",
       " 21: 441,\n",
       " 22: 484,\n",
       " 23: 529,\n",
       " 24: 576,\n",
       " 25: 625,\n",
       " 26: 676,\n",
       " 27: 729,\n",
       " 28: 784,\n",
       " 29: 841,\n",
       " 30: 900,\n",
       " 31: 961,\n",
       " 32: 1024,\n",
       " 33: 1089,\n",
       " 34: 1156,\n",
       " 35: 1225,\n",
       " 36: 1296,\n",
       " 37: 1369,\n",
       " 38: 1444,\n",
       " 39: 1521,\n",
       " 40: 1600,\n",
       " 41: 1681,\n",
       " 42: 1764,\n",
       " 43: 1849,\n",
       " 44: 1936,\n",
       " 45: 2025,\n",
       " 46: 2116,\n",
       " 47: 2209,\n",
       " 48: 2304,\n",
       " 49: 2401,\n",
       " 50: 2500,\n",
       " 51: 2601,\n",
       " 52: 2704,\n",
       " 53: 2809,\n",
       " 54: 2916,\n",
       " 55: 3025,\n",
       " 56: 3136,\n",
       " 57: 3249,\n",
       " 58: 3364,\n",
       " 59: 3481,\n",
       " 60: 3600,\n",
       " 61: 3721,\n",
       " 62: 3844,\n",
       " 63: 3969,\n",
       " 64: 4096,\n",
       " 65: 4225,\n",
       " 66: 4356,\n",
       " 67: 4489,\n",
       " 68: 4624,\n",
       " 69: 4761,\n",
       " 70: 4900,\n",
       " 71: 5041,\n",
       " 72: 5184,\n",
       " 73: 5329,\n",
       " 74: 5476,\n",
       " 75: 5625,\n",
       " 76: 5776,\n",
       " 77: 5929,\n",
       " 78: 6084,\n",
       " 79: 6241,\n",
       " 80: 6400,\n",
       " 81: 6561,\n",
       " 82: 6724,\n",
       " 83: 6889,\n",
       " 84: 7056,\n",
       " 85: 7225,\n",
       " 86: 7396,\n",
       " 87: 7569,\n",
       " 88: 7744,\n",
       " 89: 7921,\n",
       " 90: 8100,\n",
       " 91: 8281,\n",
       " 92: 8464,\n",
       " 93: 8649,\n",
       " 94: 8836,\n",
       " 95: 9025,\n",
       " 96: 9216,\n",
       " 97: 9409,\n",
       " 98: 9604,\n",
       " 99: 9801,\n",
       " 100: 10000}"
      ]
     },
     "execution_count": 31,
     "metadata": {},
     "output_type": "execute_result"
    }
   ],
   "source": [
    "num_to_square_below_100"
   ]
  },
  {
   "cell_type": "code",
   "execution_count": 32,
   "id": "48e875f8",
   "metadata": {},
   "outputs": [],
   "source": [
    "class Person:\n",
    "    def __init__(self, name, gender, age, nationality):\n",
    "        self.name = name \n",
    "        self.gender = gender \n",
    "        self.age = age \n",
    "        self.nationality = nationality \n",
    "        self.is_minor = False if age > 18 else True \n",
    "\n",
    "    def __str__(self):\n",
    "        return f\"Person\\nName:{self.name}\\nGender:{self.gender}\\nAge:{self.age}\\nNationality:{self.nationality}\"\n",
    "    \n",
    "    #__repr__ vs __str__\n",
    "    \n",
    "    def __repr__(self):\n",
    "        return f\"Person\\nName:{self.name}\\nGender:{self.gender}\\nAge:{self.age}\\nNationality:{self.nationality}\""
   ]
  },
  {
   "cell_type": "code",
   "execution_count": 33,
   "id": "5b98c74f",
   "metadata": {},
   "outputs": [],
   "source": [
    "class Student(Person):\n",
    "    def __init__(self, name, gender, age, nationality, grade, institution_type, institution):\n",
    "        super().__init__(name, gender, age, nationality)\n",
    "        self.grade = grade \n",
    "        self.institution_type = institution_type\n",
    "        self.institution = institution\n",
    "\n",
    "    def __str__(self):\n",
    "        return f\"Student\\nName:{self.name}\\nGender:{self.gender}\\nAge:{self.age}\\nNationality:{self.nationality}\"\n",
    "    \n",
    "    def __repr__(self):\n",
    "        return f\"Student\\nName:{self.name}\\nGender:{self.gender}\\nAge:{self.age}\\nNationality:{self.nationality}\""
   ]
  },
  {
   "cell_type": "code",
   "execution_count": 43,
   "id": "958d2354",
   "metadata": {},
   "outputs": [],
   "source": [
    "class Employee(Person):\n",
    "    def __init__(self, name, gender, age, nationality, employer, years_of_experience):\n",
    "        super().__init__(name, gender, age, nationality)\n",
    "        self.employer = employer\n",
    "        self.years_of_experience = years_of_experience\n",
    "\n",
    "    def __str__(self):\n",
    "        return f\"Employee\\nName:{self.name}\\nGender:{self.gender}\\nAge:{self.age}\\nNationality:{self.nationality}\"\n",
    "    \n",
    "    def __repr__(self):\n",
    "        return f\"Employee\\nName:{self.name}\\nGender:{self.gender}\\nAge:{self.age}\\nNationality:{self.nationality}\"\n"
   ]
  },
  {
   "cell_type": "code",
   "execution_count": 35,
   "id": "12756e0c",
   "metadata": {},
   "outputs": [],
   "source": [
    "p1 = Person(\"John Doe\", \"M\", 29, \"USA\")"
   ]
  },
  {
   "cell_type": "code",
   "execution_count": 36,
   "id": "18598950",
   "metadata": {},
   "outputs": [
    {
     "name": "stdout",
     "output_type": "stream",
     "text": [
      "Person\n",
      "Name:John Doe\n",
      "Gender:M\n",
      "Age:29\n",
      "Nationality:USA\n"
     ]
    }
   ],
   "source": [
    "print(p1)"
   ]
  },
  {
   "cell_type": "code",
   "execution_count": 37,
   "id": "7dbf0617",
   "metadata": {},
   "outputs": [
    {
     "data": {
      "text/plain": [
       "Person\n",
       "Name:John Doe\n",
       "Gender:M\n",
       "Age:29\n",
       "Nationality:USA"
      ]
     },
     "execution_count": 37,
     "metadata": {},
     "output_type": "execute_result"
    }
   ],
   "source": [
    "p1"
   ]
  },
  {
   "cell_type": "code",
   "execution_count": 40,
   "id": "c4fffbf6",
   "metadata": {},
   "outputs": [],
   "source": [
    "s1 = Student(\"John Doe Jr.\", \"M\", 15, \"USA\", 9,\"school\", \"Private\")"
   ]
  },
  {
   "cell_type": "code",
   "execution_count": 41,
   "id": "c7db4181",
   "metadata": {},
   "outputs": [
    {
     "data": {
      "text/plain": [
       "Student\n",
       "Name:John Doe Jr.\n",
       "Gender:M\n",
       "Age:15\n",
       "Nationality:USA"
      ]
     },
     "execution_count": 41,
     "metadata": {},
     "output_type": "execute_result"
    }
   ],
   "source": [
    "s1"
   ]
  },
  {
   "cell_type": "code",
   "execution_count": 42,
   "id": "c916093d",
   "metadata": {},
   "outputs": [
    {
     "name": "stdout",
     "output_type": "stream",
     "text": [
      "Student\n",
      "Name:John Doe Jr.\n",
      "Gender:M\n",
      "Age:15\n",
      "Nationality:USA\n"
     ]
    }
   ],
   "source": [
    "print(s1)"
   ]
  },
  {
   "cell_type": "code",
   "execution_count": 44,
   "id": "aca7f2e8",
   "metadata": {},
   "outputs": [],
   "source": [
    "e1 = Employee(\"John Doe\", \"M\", 29, \"USA\", \"Example Org\", 8)"
   ]
  },
  {
   "cell_type": "code",
   "execution_count": 45,
   "id": "44b9ba4a",
   "metadata": {},
   "outputs": [
    {
     "data": {
      "text/plain": [
       "Employee\n",
       "Name:John Doe\n",
       "Gender:M\n",
       "Age:29\n",
       "Nationality:USA"
      ]
     },
     "execution_count": 45,
     "metadata": {},
     "output_type": "execute_result"
    }
   ],
   "source": [
    "e1"
   ]
  },
  {
   "cell_type": "code",
   "execution_count": 46,
   "id": "b1a1693e",
   "metadata": {},
   "outputs": [
    {
     "name": "stdout",
     "output_type": "stream",
     "text": [
      "Employee\n",
      "Name:John Doe\n",
      "Gender:M\n",
      "Age:29\n",
      "Nationality:USA\n"
     ]
    }
   ],
   "source": [
    "print(e1)"
   ]
  },
  {
   "cell_type": "code",
   "execution_count": 50,
   "id": "280de6c3",
   "metadata": {},
   "outputs": [],
   "source": [
    "class Vector:\n",
    "    def __init__(self, vec_list):\n",
    "        self.vec = vec_list\n",
    "        self.dim = len(vec_list)\n",
    "\n",
    "    def __add__(self, other):\n",
    "        if self.dim != other.dim:\n",
    "            raise TypeError \n",
    "        \n",
    "        return Vector([i + j for i, j in zip(self.vec , other.vec)])\n",
    "    \n",
    "    def __str__(self):\n",
    "        return f\"{self.vec}\"\n",
    "    \n",
    "    def __repr__(self):\n",
    "        return f\"{self.vec}\""
   ]
  },
  {
   "cell_type": "code",
   "execution_count": 51,
   "id": "0d037c0f",
   "metadata": {},
   "outputs": [],
   "source": [
    "v1 = Vector([1, 2, 3])\n",
    "v2 = Vector([2, 4, 6])"
   ]
  },
  {
   "cell_type": "code",
   "execution_count": 52,
   "id": "aa36ef48",
   "metadata": {},
   "outputs": [
    {
     "data": {
      "text/plain": [
       "[3, 6, 9]"
      ]
     },
     "execution_count": 52,
     "metadata": {},
     "output_type": "execute_result"
    }
   ],
   "source": [
    "v1 + v2"
   ]
  },
  {
   "cell_type": "code",
   "execution_count": null,
   "id": "ae05a6ea",
   "metadata": {},
   "outputs": [],
   "source": []
  }
 ],
 "metadata": {
  "kernelspec": {
   "display_name": ".venv",
   "language": "python",
   "name": "python3"
  },
  "language_info": {
   "codemirror_mode": {
    "name": "ipython",
    "version": 3
   },
   "file_extension": ".py",
   "mimetype": "text/x-python",
   "name": "python",
   "nbconvert_exporter": "python",
   "pygments_lexer": "ipython3",
   "version": "3.12.3"
  }
 },
 "nbformat": 4,
 "nbformat_minor": 5
}
